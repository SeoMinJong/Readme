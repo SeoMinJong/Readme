{
  "nbformat": 4,
  "nbformat_minor": 0,
  "metadata": {
    "colab": {
      "name": "4주차_과제.ipynb",
      "provenance": [],
      "collapsed_sections": []
    },
    "kernelspec": {
      "name": "python3",
      "display_name": "Python 3"
    }
  },
  "cells": [
    {
      "cell_type": "markdown",
      "metadata": {
        "id": "wxkL6PjwsI6L",
        "colab_type": "text"
      },
      "source": [
        "# 4주차 과제\n",
        "- 용어 정리\n",
        "- 딥러닝 강의 클론 코딩\n",
        "- 딥러닝 순전파 & 역전파 계산"
      ]
    },
    {
      "cell_type": "markdown",
      "metadata": {
        "id": "ixEtDe6_uGgI",
        "colab_type": "text"
      },
      "source": [
        "## 1. 용어 정리\n",
        "\n",
        "다음 제시된 단어의 정의(설명)를 정리하여 작성 하세요.\n",
        "\n",
        "* 2문장 이상 작성 해 주세요. \n",
        "* 주제(단어)와 크게 벗어나지만 않는다면 정답처리 됩니다.\n",
        "* 강의 뿐 아니라 기타 레퍼런스를 참고하여 작성하셔도 됩니다. (기타 레퍼런스를 참고하신 경우, 해당 레퍼런스를 정리하여 하단에 작성해 주세요.)\n"
      ]
    },
    {
      "cell_type": "markdown",
      "metadata": {
        "id": "0lfwat8eurKZ",
        "colab_type": "text"
      },
      "source": [
        "__(예시)__\n",
        "### 심층 신경망\n",
        ": 입력층과 출력층 사이에 여러 개의 은닉층들로 이뤄진 인공신경망이다. 심층 신경망은 일반적으로 인공신경망과 마찬가지로 복잡한 비선형 관계들을 모델링 할 수 있다. 신층신경망의 목적은 분류 및 수치예측을 하기 위함이고 이미지 트레이닝이나 문자인식과 같은 분야에서 매우 유용하게 쓰이고 있다."
      ]
    },
    {
      "cell_type": "markdown",
      "metadata": {
        "id": "Y8YJNKG_v65A",
        "colab_type": "text"
      },
      "source": [
        "### MCP 뉴런\n",
        ": 맥컬린 피츠 뉴런의 약자로 신경망 이론을 기반으로 만들어졌다. 여러 신호가 수상돌기에 도착하면 세포내에 통합되고, 통합된 신호가 임계값을 넘으면 축색돌기에 전달된 출력 신로를 생성, 신경세포를 이진 출력을 내는 간단한 회로로 표현했으며 이후 퍼셉트론  학습 계념의 기반이 되었다.\n",
        "\n",
        "### 퍼셉트론\n",
        ": 1957년 프랭크 로젠 블랫이 처음으로 발표한것이며 자동으로 최적의 가중치를 학습하는 알고리즘으로써 이때 가중치는 뉴런의 출력신호를 낼지말지 결정하기 위한 입력 특성에 곱하는 계수이다. 입력값들이 가중치를 곱한 뒤, 임계값을 거치면 출력값을 얻을 수 있다.\n",
        "\n",
        "### 역전파\n",
        ": 1987년 Parallel Distributed processing이란 서적으로 인해 역전파가 세상에 알려졌다. 퍼셉트론의 단점인 파라미터수의 증가를 커버하기 위해 가중치를 효율적으로 찾는 방법으로 나온것이 역전파이다.\n",
        "기대결과값과 실제결과값의 오차를 사용하여 역순으로 가중치를 수정하며 최종적으로 최소의 오차값이 나오게하는 방법이다.\n",
        "\n",
        "### 강화학습\n",
        ": 정답이나 데이터만을 기반으로 학습을 하지않고 에이전트라는 존재가 환경과 상호작용을 하며 보상이라는 기준으로 시행착오를 거쳐 보상을 최대화하는 방향으로 학습을 진해해 나가는것을 강화학습이라한다. 수많은 시행착오를 거치며 보상을 최대화 하는 방법이기에 비교적 명확한 보상을 설정할수 있는 곳에 사용이 용의하다.\n",
        "\n",
        "### 과적합\n",
        ": 과적합은 학습이 너무 과하게 잘되어 일어나는 현상으로써 일반적으로 학습 데이터는 실제 데이터의 부분 집합이므로 학습데이타에 대해서는 오차가 감소하지만 실제 데이터에 대해서는 오차가 증가하게 된다.\n",
        "\n",
        "### 차원의 저주\n",
        ": 차원의 저주는 데이터 학습을 위해 차원을 증가하면서 학습의 데이터 수가 차원의 수보다 적어져서 일어나는 현상으로 차원이 증가할수록 개별 차원 내의 학습할 데이터 수가 적어진다. 이를 해결하기 위한 방법으로는 대표적으로 추가적으로 데이터를 획득하거나 차원축소 기법을 사용해야한다.\n",
        "\n",
        "#### 레퍼런스\n",
        ": MCP https://thebook.io/007022/ch02/01/\n",
        "   "
      ]
    },
    {
      "cell_type": "markdown",
      "metadata": {
        "id": "d-zfFXLCy6jD",
        "colab_type": "text"
      },
      "source": [
        "## 2. 딥러닝 강의 클론 코딩\n",
        "\n",
        "####__퍼셉트론 구조 구현하기__ \n",
        "딥러닝 강의(__딥러닝 원리[1] 3:15 ~ 5:15 부분__)를 보고 코드를 따라 치며 출력 결과를 만드세요.\n",
        " \n",
        "\n",
        "* 하나의 코드셀에 해당 코드를 한번에 다 적어서 실행해주세요 (__그렇게 하지 않을 경우, 아래 이미지와 같은 출력값이 나오지 않을 수 있습니다__)\n",
        "\n",
        "*__주의!__ 실제로 코딩해서 출력해보면 강의에 나온 출력 결과와 다르게 나옵니다!!\n"
      ]
    },
    {
      "cell_type": "code",
      "metadata": {
        "id": "y-9h5W0adG8I",
        "colab_type": "code",
        "outputId": "a80faeb1-6c97-4b30-c73f-2697fbb1aad8",
        "colab": {
          "base_uri": "https://localhost:8080/",
          "height": 215
        }
      },
      "source": [
        "import tensorflow as tf\n",
        "tf.compat.v1.set_random_seed(2020)\n",
        "x = 1\n",
        "y = 0\n",
        "w= tf.random.normal([1],0,1)\n",
        "\n",
        "import math\n",
        "def sigmoid(x):\n",
        "  return 1/(1 + math.exp(-x))\n",
        "\n",
        "output = sigmoid(w*x)\n",
        "print(output)\n",
        "\n",
        "for i in range(1000):\n",
        "  output = sigmoid(x*w)\n",
        "  error = y - output\n",
        "  w = w + x * 0.1 * error\n",
        "  \n",
        "  if i % 100 == 99:\n",
        "    print(\"학습횟수:\",i,\"Error:\",error,\"예측결과:\",output)"
      ],
      "execution_count": 0,
      "outputs": [
        {
          "output_type": "stream",
          "text": [
            "0.47477188589261\n",
            "학습횟수: 99 Error: -0.10010598284299604 예측결과: 0.10010598284299604\n",
            "학습횟수: 199 Error: -0.05178399422833116 예측결과: 0.05178399422833116\n",
            "학습횟수: 299 Error: -0.034590451977903586 예측결과: 0.034590451977903586\n",
            "학습횟수: 399 Error: -0.02588962752851373 예측결과: 0.02588962752851373\n",
            "학습횟수: 499 Error: -0.020658699939863617 예측결과: 0.020658699939863617\n",
            "학습횟수: 599 Error: -0.017174253993457355 예측결과: 0.017174253993457355\n",
            "학습횟수: 699 Error: -0.014689506449480992 예측결과: 0.014689506449480992\n",
            "학습횟수: 799 Error: -0.012829497265431342 예측결과: 0.012829497265431342\n",
            "학습횟수: 899 Error: -0.011385568271837804 예측결과: 0.011385568271837804\n",
            "학습횟수: 999 Error: -0.010232493309882492 예측결과: 0.010232493309882492\n"
          ],
          "name": "stdout"
        }
      ]
    },
    {
      "cell_type": "markdown",
      "metadata": {
        "id": "wcc5mzI9oZ7r",
        "colab_type": "text"
      },
      "source": [
        "![대체 텍스트](https://www.notion.so/image/https%3A%2F%2Fs3-us-west-2.amazonaws.com%2Fsecure.notion-static.com%2F0cceeed0-0235-4b0f-af88-0b8c377d5b4b%2F_2020-06-09__9.35.23.png?table=block&id=88fd8912-9356-49a4-9fda-a1a63fe96ea9&width=2870&cache=v2)"
      ]
    },
    {
      "cell_type": "markdown",
      "metadata": {
        "id": "kr0HVRk8fOom",
        "colab_type": "text"
      },
      "source": [
        "## 3. 딥러닝 순전파 & 역전파 계산\n",
        "\n",
        "딥러닝 강의(__딥러닝 원리[2] 0:55 ~ 4:32 부분__)에 나오는 순전파 & 역전파 계산에 대한 문제 입니다.\n",
        "\n",
        "해당 영상과 다음 이미지를 참고하여 다음 2가지 물음에 답하세요.\n",
        "\n",
        "\n",
        "(1) 학습률이 0.2 일 경우 출력층의 노드값\n",
        "\n",
        "(2) 학습률이 0.1과 0.2 중 기대출력값이 지도데이터 \"3\"과 더 가까운 학습률은?"
      ]
    },
    {
      "cell_type": "markdown",
      "metadata": {
        "id": "CpwPFWhOUzww",
        "colab_type": "text"
      },
      "source": [
        "![대체 텍스트](https://www.notion.so/image/https%3A%2F%2Fs3-us-west-2.amazonaws.com%2Fsecure.notion-static.com%2Ff54dfd45-92ec-44ae-9616-6949d2484a45%2F_2020-06-10__5.22.03.png?table=block&id=ee05da89-3ceb-4ad9-a2d3-c9f68d24d1d9&width=3580&cache=v2)"
      ]
    },
    {
      "cell_type": "markdown",
      "metadata": {
        "id": "B2OVY7w5U3CI",
        "colab_type": "text"
      },
      "source": [
        "## (1) 학습률이 0.2 일 경우 출력층의 노드값 : 1.6\n",
        "## (2) 학습률이 0.1과 0.2 중 기대출력값이 지도데이터 \"3\"과 더 가까운 학습률은? : 0.1"
      ]
    },
    {
      "cell_type": "code",
      "metadata": {
        "id": "BgavfvqiWxBU",
        "colab_type": "code",
        "colab": {}
      },
      "source": [
        ""
      ],
      "execution_count": 0,
      "outputs": []
    }
  ]
}