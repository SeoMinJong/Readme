{
  "nbformat": 4,
  "nbformat_minor": 0,
  "metadata": {
    "colab": {
      "name": "Untitled",
      "provenance": [],
      "collapsed_sections": [],
      "authorship_tag": "ABX9TyOZRBoKt+Eo5CsR4ZY/n5/W"
    },
    "kernelspec": {
      "name": "python3",
      "display_name": "Python 3"
    }
  },
  "cells": [
    {
      "cell_type": "markdown",
      "metadata": {
        "id": "aDixKZunnSEl",
        "colab_type": "text"
      },
      "source": [
        "## __1. 과제__\n",
        " * 언어\n",
        "  - 구글 인공지능 언어모델 'BERT'(Bidirectional Encoder Representations from Transformers)\n",
        "    + 자연 언어 처리(NLP) AI의 최첨단 딥러닝 모델\n",
        "    + '큰 텍스트 코퍼스(Wikipedia와 같은)'를 이용하여 범용목적의 '언어 이해'모델을 훈련시키는 것과 그 모델에 관심 있는 실제의 자연언어 처리 태스크에 적용\n",
        "    + Semi-supervised Sequence Learning (반지도학습), Generative Pre-Training, ELMo, ULMFit를 포함, 대응에 의한 모델은 모두 단방향 또는 얕은 양방향이다.\n",
        " * 음성\n",
        "  - 인공지능 스피커\n",
        "    + 음성 입력 과정을 거쳐 사람의 음성을 컴퓨터가 이해할수 있도록 텍스트화\n",
        "    + 자연어 처리 (Natural Language Processing, NLP)\n",
        "    + grammar - 사람이 인공지능 스피커에게 하는 말의 입력 단위\n",
        "    + prompt - 인공지능 스피커가 사람에게 말하는 문장(질문의 대답 및 정보전달 등)\n",
        "    + prosocy - 인공지능이 가진 성격이나 정체성(인공지능이 가진 성격이나 정체성, 목소리뿐 아니라 말하는 내용등을 결정하는 요소)\n",
        "    + prosody - 목소리의 높낮이나 강조, 톤 등\n",
        "    + interaction - 사용자와 인공지능 스피커 간의 상호작용(사용자에 따라 다양한 형태의 관계성이 나타날 수 있다)\n",
        " * 이미지\n",
        "   - 구글 인셉션 v3\n",
        "    + 인셉션 모듈(Inception Module) - 필터를 병렬로 사용하여 다른영역의 특징을 찾아 축적하고 (1,1)사이즈의 필터를 추가해 피라미터의 수를 축소하였다.\n",
        "    + 평균 풀링 - 완전 연결층을 평균 풀링으로 대체하여 매개변수의 개수가 훨씬 줄어든다\n",
        "    + 보조 분류기(auxiliary classifier) - 기울기가 0이 되는것을 해결하기 위해 두개의 신경망을 구조안에 추가했다.\n",
        " * 자율주행\n",
        "   - LG 자율주행차\n",
        "    + 딥러닝 기반 자율주행 기술 - 강화 학습(Reinforcement Learning), 관계형 추론(Relational Networks), 지능 이식(Transferring Intelligence)\n",
        " * 흥미를 끄는 분야와 솔직한 학습목표\n",
        "  - 인공지능 기술의 자료들을 찾아보면서 느낀건 우선 너무 광범위한 분야에 결정하기가 너무 어렵다고 느꼈습니다.\n",
        "  그래도 굳이 하나만 꼽자면 자율주행입니다.   \n",
        "  자율주행을 찾아볼수록 미래를 위한 기술이라고 느꼈습니다. 자동차들이 스스로 운전을 하고 운전기술이 없어도  택시를 타듯이 자율주행차를 타는건 너무나도 먼 미래로 영화에서나 소설에서만 가능할거같은 이야기였습니다.\n",
        "  그런데 막상 이렇게 기술들을 찾아보니 실현이 가능할 수 있다는 생각이 들었습니다.   \n",
        "  사실 제가 찾아봐서 열심히 공부를 해봐도 대강의 이해만이 겨우 가능했지만 막상 실현하려는건 상상하는것도 어려웠습니다.    \n",
        "  강의를 들을때는 그저 열심히 해보자는 생각만 있었지만 이렇게 구체적으로 찾아보니 이런 일들을 위해 노력한다고 생각하니 좀 더 흥미가 생겼습니다. 바로 이런것들을 구현해낼 수 있다고는 못하지만 언젠가 이런 개발에 다가갈수있게 우선 강의해주시는 내용부터 철저히 이해하도록 노력하려고 합니다. 기초부터 완벽하게 이해하고 더 위의 단계로 나아가서 차근차근 해 나가려 합니다. 비록 아는게 없어도 조바심만큼은 내지않고 이해를 목표로 해나가도록 목표를 잡았습니다."
      ]
    },
    {
      "cell_type": "code",
      "metadata": {
        "id": "Jo1nHif0nSZo",
        "colab_type": "code",
        "colab": {}
      },
      "source": [
        ""
      ],
      "execution_count": 0,
      "outputs": []
    }
  ]
}