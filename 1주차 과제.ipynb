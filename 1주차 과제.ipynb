{
  "nbformat": 4,
  "nbformat_minor": 0,
  "metadata": {
    "colab": {
      "name": "Untitled",
      "provenance": [],
      "collapsed_sections": [],
      "authorship_tag": "ABX9TyP9kVvSiW7zUXwpZ2ks3Ag3"
    },
    "kernelspec": {
      "name": "python3",
      "display_name": "Python 3"
    }
  },
  "cells": [
    {
      "cell_type": "markdown",
      "metadata": {
        "id": "aDixKZunnSEl",
        "colab_type": "text"
      },
      "source": [
        "## __1. 과제__\n",
        " * ###  언어\n",
        "\n",
        "  - 구글 인공지능 언어모델 'BERT'(Bidirectional Encoder Representations from Transformers)\n",
        "    + 자연 언어 처리(NLP) AI의 최첨단 딥러닝 모델\n",
        "    + '큰 텍스트 코퍼스(Wikipedia와 같은)'를 이용하여 범용목적의 '언어 이해'모델을 훈련시키는 것과 그 모델에 관심 있는 실제의 자연언어 처리 태스크에 적용\n",
        "    + Semi-supervised Sequence Learning (반지도학습), Generative Pre-Training, ELMo, ULMFit를 포함, 대응에 의한 모델은 모두 단방향 또는 얕은 양방향이다.\n",
        " * 음성\n",
        "    - ####  인공지능 스피커\n",
        "     + 음성 입력 과정을 거쳐 사람의 음성을 컴퓨터가 이해할수 있도록 텍스트화\n",
        "     + 자연어 처리 (Natural Language Processing, NLP)\n",
        "     + grammar - 사람이 인공지능 스피커에게 하는 말의 입력 단위\n",
        "     + prompt - 인공지능 스피커가 사람에게 말하는 문장(질문의 대답 및 정보전달 등)\n",
        "     + prosocy - 인공지능이 가진 성격이나 정체성(인공지능이 가진 성격이나 정체성, 목소리뿐 아니라 말하는 내용등을 결정하는 요소)\n",
        "     + prosody - 목소리의 높낮이나 강조, 톤 등\n",
        "     + interaction - 사용자와 인공지능 스피커 간의 상호작용(사용자에 따라 다양한 형태의 관계성이 나타날 수 있다)\n",
        " - 이미지\n",
        "   + 일단\n",
        " - 자율주행\n",
        "   + 해놓음\n",
        "\n",
        "\n",
        "\n"
      ]
    },
    {
      "cell_type": "code",
      "metadata": {
        "id": "Jo1nHif0nSZo",
        "colab_type": "code",
        "colab": {}
      },
      "source": [
        ""
      ],
      "execution_count": 0,
      "outputs": []
    }
  ]
}
